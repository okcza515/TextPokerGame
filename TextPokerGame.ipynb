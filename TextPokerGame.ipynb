{
  "nbformat": 4,
  "nbformat_minor": 0,
  "metadata": {
    "colab": {
      "provenance": [],
      "mount_file_id": "1DJYH05JLdS_bG4m2MmOfEfPBcoCA76sj",
      "authorship_tag": "ABX9TyPPXgW9yhmXUGO5JWZ6eJIS",
      "include_colab_link": true
    },
    "kernelspec": {
      "name": "python3",
      "display_name": "Python 3"
    },
    "language_info": {
      "name": "python"
    }
  },
  "cells": [
    {
      "cell_type": "markdown",
      "metadata": {
        "id": "view-in-github",
        "colab_type": "text"
      },
      "source": [
        "<a href=\"https://colab.research.google.com/github/okcza515/TextPokerGame/blob/main/TextPokerGame.ipynb\" target=\"_parent\"><img src=\"https://colab.research.google.com/assets/colab-badge.svg\" alt=\"Open In Colab\"/></a>"
      ]
    },
    {
      "cell_type": "code",
      "execution_count": 8,
      "metadata": {
        "id": "_gw3tHe-c0ws"
      },
      "outputs": [],
      "source": [
        "import random\n",
        "\n",
        "class PokerGame:\n",
        "    def __init__(self, players):\n",
        "        self.players = players\n",
        "        self.deck = self.generate_deck()\n",
        "        self.community_cards = []\n",
        "        self.pot = 0\n",
        "\n",
        "    def generate_deck(self):\n",
        "        suits = ['Hearts', 'Diamonds', 'Clubs', 'Spades']\n",
        "        ranks = ['2', '3', '4', '5', '6', '7', '8', '9', '10', 'J', 'Q', 'K', 'A']\n",
        "        deck = [{'rank': rank, 'suit': suit} for suit in suits for rank in ranks]\n",
        "        random.shuffle(deck)\n",
        "        return deck\n",
        "\n",
        "    def deal_cards(self):\n",
        "        for player in self.players:\n",
        "            player.hand = [self.deck.pop(), self.deck.pop()]\n",
        "\n",
        "    def deal_community_cards(self, num_cards):\n",
        "        self.community_cards.extend(self.deck[:num_cards])\n",
        "        del self.deck[:num_cards]\n",
        "\n",
        "    def evaluate_winner(self):\n",
        "        # Add logic to evaluate the winner based on hand strength (e.g., check for pairs, straights, etc.)\n",
        "        # This can be a complex part of the project.\n",
        "        pass\n",
        "\n",
        "    def play_round(self):\n",
        "        self.deal_cards()\n",
        "        self.deal_community_cards(3)  # Flop\n",
        "        self.deal_community_cards(1)  # Turn\n",
        "        self.deal_community_cards(1)  # River\n",
        "        self.evaluate_winner()\n",
        "\n",
        "    def get_user_bet(self, player):\n",
        "        while True:\n",
        "            try:\n",
        "                bet = int(input(f\"{player.name}, enter your bet: \"))\n",
        "                if bet >= 0 and bet <= player.chips:\n",
        "                    return bet\n",
        "                else:\n",
        "                    print(\"Invalid bet. Please enter a valid amount.\")\n",
        "            except ValueError:\n",
        "                print(\"Invalid input. Please enter a number.\")\n",
        "\n",
        "    def player_turn(self, player):\n",
        "        print(f\"\\n{player.name}'s turn:\")\n",
        "        print(f\"Community Cards: {self.community_cards}\")\n",
        "        print(f\"Your Hand: {player.hand}\")\n",
        "\n",
        "        # Add logic for player actions (e.g., bet, fold, etc.)\n",
        "        # For simplicity, let's assume players can only bet or fold.\n",
        "\n",
        "        action = input(\"Do you want to (B)et or (F)old? \").upper()\n",
        "\n",
        "        if action == 'B':\n",
        "            bet = self.get_user_bet(player)\n",
        "            player.chips -= bet\n",
        "            self.pot += bet\n",
        "        elif action == 'F':\n",
        "            # Player folds, implement fold logic if needed\n",
        "            pass\n",
        "        else:\n",
        "            print(\"Invalid action. Please enter 'B' to bet or 'F' to fold.\")\n",
        "\n",
        "    def play_round(self):\n",
        "        self.deal_cards()\n",
        "        self.deal_community_cards(3)  # Flop\n",
        "        self.deal_community_cards(1)  # Turn\n",
        "        self.deal_community_cards(1)  # River\n",
        "\n",
        "        for player in self.players:\n",
        "            self.player_turn(player)\n",
        "\n",
        "        self.evaluate_winner()\n",
        "\n",
        "# Update the Player class to include chips\n",
        "class Player:\n",
        "    def __init__(self, name, chips=1000):\n",
        "        self.name = name\n",
        "        self.hand = []\n",
        "        self.chips = chips\n",
        "\n"
      ]
    },
    {
      "cell_type": "code",
      "source": [
        "# Example usage\n",
        "player1 = Player(\"Player 1\")\n",
        "player2 = Player(\"AI Bot\")\n",
        "players = [player1, player2]\n",
        "\n",
        "game = PokerGame(players)\n",
        "game.play_round()\n"
      ],
      "metadata": {
        "colab": {
          "base_uri": "https://localhost:8080/",
          "height": 570
        },
        "id": "YNXFj8Vhmiho",
        "outputId": "9970647d-2383-40a6-8282-3d36f50def5c"
      },
      "execution_count": 7,
      "outputs": [
        {
          "output_type": "stream",
          "name": "stdout",
          "text": [
            "\n",
            "Player 1's turn:\n",
            "Community Cards: [{'rank': '5', 'suit': 'Diamonds'}, {'rank': 'K', 'suit': 'Clubs'}, {'rank': '8', 'suit': 'Hearts'}, {'rank': '2', 'suit': 'Spades'}, {'rank': '8', 'suit': 'Spades'}]\n",
            "Your Hand: [{'rank': '6', 'suit': 'Spades'}, {'rank': '9', 'suit': 'Hearts'}]\n",
            "Do you want to (B)et or (F)old? B\n",
            "Player 1, enter your bet: 100\n",
            "\n",
            "AI Bot's turn:\n",
            "Community Cards: [{'rank': '5', 'suit': 'Diamonds'}, {'rank': 'K', 'suit': 'Clubs'}, {'rank': '8', 'suit': 'Hearts'}, {'rank': '2', 'suit': 'Spades'}, {'rank': '8', 'suit': 'Spades'}]\n",
            "Your Hand: [{'rank': 'J', 'suit': 'Hearts'}, {'rank': '2', 'suit': 'Diamonds'}]\n"
          ]
        },
        {
          "output_type": "error",
          "ename": "KeyboardInterrupt",
          "evalue": "ignored",
          "traceback": [
            "\u001b[0;31m---------------------------------------------------------------------------\u001b[0m",
            "\u001b[0;31mKeyboardInterrupt\u001b[0m                         Traceback (most recent call last)",
            "\u001b[0;32m<ipython-input-7-73bf17ccbf8c>\u001b[0m in \u001b[0;36m<cell line: 7>\u001b[0;34m()\u001b[0m\n\u001b[1;32m      5\u001b[0m \u001b[0;34m\u001b[0m\u001b[0m\n\u001b[1;32m      6\u001b[0m \u001b[0mgame\u001b[0m \u001b[0;34m=\u001b[0m \u001b[0mPokerGame\u001b[0m\u001b[0;34m(\u001b[0m\u001b[0mplayers\u001b[0m\u001b[0;34m)\u001b[0m\u001b[0;34m\u001b[0m\u001b[0;34m\u001b[0m\u001b[0m\n\u001b[0;32m----> 7\u001b[0;31m \u001b[0mgame\u001b[0m\u001b[0;34m.\u001b[0m\u001b[0mplay_round\u001b[0m\u001b[0;34m(\u001b[0m\u001b[0;34m)\u001b[0m\u001b[0;34m\u001b[0m\u001b[0;34m\u001b[0m\u001b[0m\n\u001b[0m",
            "\u001b[0;32m<ipython-input-6-99ffa8644281>\u001b[0m in \u001b[0;36mplay_round\u001b[0;34m(self)\u001b[0m\n\u001b[1;32m     73\u001b[0m \u001b[0;34m\u001b[0m\u001b[0m\n\u001b[1;32m     74\u001b[0m         \u001b[0;32mfor\u001b[0m \u001b[0mplayer\u001b[0m \u001b[0;32min\u001b[0m \u001b[0mself\u001b[0m\u001b[0;34m.\u001b[0m\u001b[0mplayers\u001b[0m\u001b[0;34m:\u001b[0m\u001b[0;34m\u001b[0m\u001b[0;34m\u001b[0m\u001b[0m\n\u001b[0;32m---> 75\u001b[0;31m             \u001b[0mself\u001b[0m\u001b[0;34m.\u001b[0m\u001b[0mplayer_turn\u001b[0m\u001b[0;34m(\u001b[0m\u001b[0mplayer\u001b[0m\u001b[0;34m)\u001b[0m\u001b[0;34m\u001b[0m\u001b[0;34m\u001b[0m\u001b[0m\n\u001b[0m\u001b[1;32m     76\u001b[0m \u001b[0;34m\u001b[0m\u001b[0m\n\u001b[1;32m     77\u001b[0m         \u001b[0mself\u001b[0m\u001b[0;34m.\u001b[0m\u001b[0mevaluate_winner\u001b[0m\u001b[0;34m(\u001b[0m\u001b[0;34m)\u001b[0m\u001b[0;34m\u001b[0m\u001b[0;34m\u001b[0m\u001b[0m\n",
            "\u001b[0;32m<ipython-input-6-99ffa8644281>\u001b[0m in \u001b[0;36mplayer_turn\u001b[0;34m(self, player)\u001b[0m\n\u001b[1;32m     54\u001b[0m         \u001b[0;31m# For simplicity, let's assume players can only bet or fold.\u001b[0m\u001b[0;34m\u001b[0m\u001b[0;34m\u001b[0m\u001b[0m\n\u001b[1;32m     55\u001b[0m \u001b[0;34m\u001b[0m\u001b[0m\n\u001b[0;32m---> 56\u001b[0;31m         \u001b[0maction\u001b[0m \u001b[0;34m=\u001b[0m \u001b[0minput\u001b[0m\u001b[0;34m(\u001b[0m\u001b[0;34m\"Do you want to (B)et or (F)old? \"\u001b[0m\u001b[0;34m)\u001b[0m\u001b[0;34m.\u001b[0m\u001b[0mupper\u001b[0m\u001b[0;34m(\u001b[0m\u001b[0;34m)\u001b[0m\u001b[0;34m\u001b[0m\u001b[0;34m\u001b[0m\u001b[0m\n\u001b[0m\u001b[1;32m     57\u001b[0m \u001b[0;34m\u001b[0m\u001b[0m\n\u001b[1;32m     58\u001b[0m         \u001b[0;32mif\u001b[0m \u001b[0maction\u001b[0m \u001b[0;34m==\u001b[0m \u001b[0;34m'B'\u001b[0m\u001b[0;34m:\u001b[0m\u001b[0;34m\u001b[0m\u001b[0;34m\u001b[0m\u001b[0m\n",
            "\u001b[0;32m/usr/local/lib/python3.10/dist-packages/ipykernel/kernelbase.py\u001b[0m in \u001b[0;36mraw_input\u001b[0;34m(self, prompt)\u001b[0m\n\u001b[1;32m    849\u001b[0m                 \u001b[0;34m\"raw_input was called, but this frontend does not support input requests.\"\u001b[0m\u001b[0;34m\u001b[0m\u001b[0;34m\u001b[0m\u001b[0m\n\u001b[1;32m    850\u001b[0m             )\n\u001b[0;32m--> 851\u001b[0;31m         return self._input_request(str(prompt),\n\u001b[0m\u001b[1;32m    852\u001b[0m             \u001b[0mself\u001b[0m\u001b[0;34m.\u001b[0m\u001b[0m_parent_ident\u001b[0m\u001b[0;34m,\u001b[0m\u001b[0;34m\u001b[0m\u001b[0;34m\u001b[0m\u001b[0m\n\u001b[1;32m    853\u001b[0m             \u001b[0mself\u001b[0m\u001b[0;34m.\u001b[0m\u001b[0m_parent_header\u001b[0m\u001b[0;34m,\u001b[0m\u001b[0;34m\u001b[0m\u001b[0;34m\u001b[0m\u001b[0m\n",
            "\u001b[0;32m/usr/local/lib/python3.10/dist-packages/ipykernel/kernelbase.py\u001b[0m in \u001b[0;36m_input_request\u001b[0;34m(self, prompt, ident, parent, password)\u001b[0m\n\u001b[1;32m    893\u001b[0m             \u001b[0;32mexcept\u001b[0m \u001b[0mKeyboardInterrupt\u001b[0m\u001b[0;34m:\u001b[0m\u001b[0;34m\u001b[0m\u001b[0;34m\u001b[0m\u001b[0m\n\u001b[1;32m    894\u001b[0m                 \u001b[0;31m# re-raise KeyboardInterrupt, to truncate traceback\u001b[0m\u001b[0;34m\u001b[0m\u001b[0;34m\u001b[0m\u001b[0m\n\u001b[0;32m--> 895\u001b[0;31m                 \u001b[0;32mraise\u001b[0m \u001b[0mKeyboardInterrupt\u001b[0m\u001b[0;34m(\u001b[0m\u001b[0;34m\"Interrupted by user\"\u001b[0m\u001b[0;34m)\u001b[0m \u001b[0;32mfrom\u001b[0m \u001b[0;32mNone\u001b[0m\u001b[0;34m\u001b[0m\u001b[0;34m\u001b[0m\u001b[0m\n\u001b[0m\u001b[1;32m    896\u001b[0m             \u001b[0;32mexcept\u001b[0m \u001b[0mException\u001b[0m \u001b[0;32mas\u001b[0m \u001b[0me\u001b[0m\u001b[0;34m:\u001b[0m\u001b[0;34m\u001b[0m\u001b[0;34m\u001b[0m\u001b[0m\n\u001b[1;32m    897\u001b[0m                 \u001b[0mself\u001b[0m\u001b[0;34m.\u001b[0m\u001b[0mlog\u001b[0m\u001b[0;34m.\u001b[0m\u001b[0mwarning\u001b[0m\u001b[0;34m(\u001b[0m\u001b[0;34m\"Invalid Message:\"\u001b[0m\u001b[0;34m,\u001b[0m \u001b[0mexc_info\u001b[0m\u001b[0;34m=\u001b[0m\u001b[0;32mTrue\u001b[0m\u001b[0;34m)\u001b[0m\u001b[0;34m\u001b[0m\u001b[0;34m\u001b[0m\u001b[0m\n",
            "\u001b[0;31mKeyboardInterrupt\u001b[0m: Interrupted by user"
          ]
        }
      ]
    },
    {
      "cell_type": "code",
      "source": [],
      "metadata": {
        "id": "C4JDFBWlsQVr"
      },
      "execution_count": null,
      "outputs": []
    }
  ]
}